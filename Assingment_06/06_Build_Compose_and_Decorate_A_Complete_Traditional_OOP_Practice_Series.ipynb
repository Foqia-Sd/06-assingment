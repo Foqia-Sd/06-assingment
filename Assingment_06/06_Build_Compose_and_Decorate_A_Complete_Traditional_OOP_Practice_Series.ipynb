{
  "nbformat": 4,
  "nbformat_minor": 0,
  "metadata": {
    "colab": {
      "provenance": []
    },
    "kernelspec": {
      "name": "python3",
      "display_name": "Python 3"
    },
    "language_info": {
      "name": "python"
    }
  },
  "cells": [
    {
      "cell_type": "markdown",
      "source": [
        "**1. Using self\n",
        "Assignment:\n",
        "Create a class Student with attributes name and marks. Use the self keyword to initialize these values via a constructor. Add a method display() that prints student details.**"
      ],
      "metadata": {
        "id": "KoQBTfq8KYZQ"
      }
    },
    {
      "cell_type": "code",
      "source": [
        "class Student:\n",
        "  def __init__(self, name, marks):\n",
        "    self.name = name\n",
        "    self.marks = marks\n",
        "\n",
        "  def display(self):\n",
        "    print(f\"Name: {self.name}\\nMarks: {self.marks}\")\n",
        "\n",
        "s1 = Student(\"Ali\", 85)\n",
        "s1.display()\n"
      ],
      "metadata": {
        "colab": {
          "base_uri": "https://localhost:8080/"
        },
        "id": "_C-I8h9PKqlv",
        "outputId": "a03dc025-62f4-4d75-a5c6-978c582d2238"
      },
      "execution_count": null,
      "outputs": [
        {
          "output_type": "stream",
          "name": "stdout",
          "text": [
            "Name: Ali\n",
            "Marks: 85\n"
          ]
        }
      ]
    },
    {
      "cell_type": "markdown",
      "source": [
        "**2. Using cls\n",
        "Assignment:\n",
        "Create a class Counter that keeps track of how many objects have been created. Use a class variable and a class method with cls to manage and display the count.**"
      ],
      "metadata": {
        "id": "48BzwpydNiec"
      }
    },
    {
      "cell_type": "code",
      "source": [
        "class Counter:\n",
        "  count = 0\n",
        "\n",
        "  def __init__(self):\n",
        "    Counter.count += 1\n",
        "\n",
        "\n",
        "  @classmethod\n",
        "  def display_count(cls):\n",
        "    print(f\"Total objects created: {cls.count}\")\n",
        "\n",
        "c1 = Counter()\n",
        "c2 = Counter()\n",
        "c3 = Counter()\n",
        "\n",
        "Counter.display_count()\n",
        "\n"
      ],
      "metadata": {
        "colab": {
          "base_uri": "https://localhost:8080/"
        },
        "id": "TvpEzjXnNukz",
        "outputId": "db4c48ea-26b6-4455-d690-da6cd3aec803"
      },
      "execution_count": null,
      "outputs": [
        {
          "output_type": "stream",
          "name": "stdout",
          "text": [
            "Total objects created: 3\n"
          ]
        }
      ]
    },
    {
      "cell_type": "markdown",
      "source": [
        "**3. Public Variables and Methods\n",
        "Assignment:\n",
        "Create a class Car with a public variable brand and a public method start(). Instantiate the class and access both from outside the class.**"
      ],
      "metadata": {
        "id": "f66YO5PQO-y_"
      }
    },
    {
      "cell_type": "code",
      "source": [
        "class Car:\n",
        "  def __init__(self, brand):\n",
        "    self.brand = brand #public variable\n",
        "\n",
        "  def start(self): #method\n",
        "    print(f\"{self.brand} car is strating...\")\n",
        "\n",
        "car1 = Car(\"Toyota\")\n",
        "car1.start()\n",
        "print(car1.brand)\n",
        "\n",
        "\n",
        "\n"
      ],
      "metadata": {
        "colab": {
          "base_uri": "https://localhost:8080/"
        },
        "id": "AuX37a9UPJTA",
        "outputId": "742ff660-39ee-498c-ebf4-93b0046bd154"
      },
      "execution_count": null,
      "outputs": [
        {
          "output_type": "stream",
          "name": "stdout",
          "text": [
            "Toyota car is strating...\n",
            "Toyota\n"
          ]
        }
      ]
    },
    {
      "cell_type": "markdown",
      "source": [
        "**4. Class Variables and Class Methods\n",
        "Assignment:\n",
        "Create a class Bank with a class variable bank_name. Add a class method change_bank_name(cls, name) that allows changing the bank name. Show that it affects all instances.**"
      ],
      "metadata": {
        "id": "VACIfIAZQxj9"
      }
    },
    {
      "cell_type": "code",
      "source": [
        "class Bank:\n",
        "  bank_name = \"Mezzan Bank\"\n",
        "\n",
        "  @classmethod\n",
        "  def change_bank_name(cls, name):\n",
        "    cls.bank_name = name\n",
        "\n",
        "b1 = Bank()\n",
        "b2 = Bank()\n",
        "\n",
        "Bank.change_bank_name(\"ABC Bank\")\n",
        "print(b1.bank_name)\n",
        "print(b2.bank_name)\n",
        "\n"
      ],
      "metadata": {
        "colab": {
          "base_uri": "https://localhost:8080/"
        },
        "id": "0YHN_x3NQ6ah",
        "outputId": "3603965d-03df-48c7-ddd9-8bcd5db64268"
      },
      "execution_count": null,
      "outputs": [
        {
          "output_type": "stream",
          "name": "stdout",
          "text": [
            "ABC Bank\n",
            "ABC Bank\n"
          ]
        }
      ]
    },
    {
      "cell_type": "markdown",
      "source": [
        "**5. Static Variables and Static Methods\n",
        "Assignment:\n",
        "Create a class MathUtils with a static method add(a, b) that returns the sum. No class or instance variables should be used.**"
      ],
      "metadata": {
        "id": "yCiOEVCFSJb3"
      }
    },
    {
      "cell_type": "code",
      "source": [
        "class MathUtils:\n",
        "  @staticmethod\n",
        "  def add(a, b):\n",
        "    return a + b\n",
        "\n",
        "print(\"Addition:\", MathUtils.add(5, 5))"
      ],
      "metadata": {
        "colab": {
          "base_uri": "https://localhost:8080/"
        },
        "id": "l171dY5pSS26",
        "outputId": "a7aecc3d-bcb7-497c-cf1a-6fd1fe3a2550"
      },
      "execution_count": null,
      "outputs": [
        {
          "output_type": "stream",
          "name": "stdout",
          "text": [
            "Addition: 10\n"
          ]
        }
      ]
    },
    {
      "cell_type": "markdown",
      "source": [
        "**6. Constructors and Destructors\n",
        "Assignment:\n",
        "Create a class Logger that prints a message when an object is created (constructor) and another message when it is destroyed (destructor).**"
      ],
      "metadata": {
        "id": "lvBY77yClZ4B"
      }
    },
    {
      "cell_type": "code",
      "source": [
        "class Logger:\n",
        "  def __init__(self):\n",
        "    print(\"Logger object created! \")\n",
        "\n",
        "  def __del__(self):\n",
        "    print(\"Logger object is destroyed! \")\n",
        "\n",
        "l = Logger()\n",
        "del l\n"
      ],
      "metadata": {
        "colab": {
          "base_uri": "https://localhost:8080/"
        },
        "id": "L46LNl7ylh0G",
        "outputId": "5d1454ab-a1df-4629-a25d-d9f8294acce7"
      },
      "execution_count": null,
      "outputs": [
        {
          "output_type": "stream",
          "name": "stdout",
          "text": [
            "Logger object created! \n",
            "Logger object is destroyed! \n"
          ]
        }
      ]
    },
    {
      "cell_type": "markdown",
      "source": [
        "**7. Access Modifiers: Public, Private, and Protected\n",
        "Assignment:**\n",
        "Create a class Employee with:\n",
        "\n",
        "a public variable name,\n",
        "\n",
        "a protected variable _salary, and\n",
        "\n",
        "a private variable __ssn.\n",
        "\n",
        "Try accessing all three variables from an object of the class and document what happens.**"
      ],
      "metadata": {
        "id": "hJ4iq5KImaDm"
      }
    },
    {
      "cell_type": "code",
      "source": [
        "class Employee:\n",
        "  def __init__(self, name, salary, ssn):\n",
        "    self.name = name\n",
        "    self._salary = salary\n",
        "    self.__ssn = ssn\n",
        "\n",
        "employ1 = Employee(\"Sara\", 50000, 123-456-789)\n",
        "\n",
        "print(employ1.name)\n",
        "print(employ1._salary) #protected\n",
        "#print(employ1.__ssn) Attribute Error: private cant access\n"
      ],
      "metadata": {
        "colab": {
          "base_uri": "https://localhost:8080/"
        },
        "id": "AQ7M5AHFmrAF",
        "outputId": "1e5a3ac9-9558-456f-8e52-030d8d43be5f"
      },
      "execution_count": null,
      "outputs": [
        {
          "output_type": "stream",
          "name": "stdout",
          "text": [
            "Sara\n",
            "50000\n"
          ]
        }
      ]
    },
    {
      "cell_type": "markdown",
      "source": [
        "**8. The super() Function\n",
        "Assignment:\n",
        "Create a class Person with a constructor that sets the name. Inherit a class Teacher from it, add a subject field, and use super() to call the base class constructor.**"
      ],
      "metadata": {
        "id": "due-a3IIqB4M"
      }
    },
    {
      "cell_type": "code",
      "source": [
        "class Person:\n",
        "  def __init__(self, name):\n",
        "    self.name = name\n",
        "\n",
        "class Teacher(Person):\n",
        "  def __init__(self, name, subject):\n",
        "    super().__init__(name)\n",
        "    self.subject = subject\n",
        "\n",
        "t1 = Teacher(\"Hamzah\", \"Computer\")\n",
        "print(f\"Teacher Name: {t1.name} \\nSubject: {t1.subject}\")"
      ],
      "metadata": {
        "colab": {
          "base_uri": "https://localhost:8080/"
        },
        "id": "TdA0epcdqHzP",
        "outputId": "ef61f89e-a96b-4add-f155-0630bb402b16"
      },
      "execution_count": null,
      "outputs": [
        {
          "output_type": "stream",
          "name": "stdout",
          "text": [
            "Teacher Name: Hamzah \n",
            "Subject: Computer\n"
          ]
        }
      ]
    },
    {
      "cell_type": "markdown",
      "source": [
        "**9. Abstract Classes and Methods\n",
        "Assignment:\n",
        "Use the abc module to create an abstract class Shape with an abstract method area(). Inherit a class Rectangle that implements area().**"
      ],
      "metadata": {
        "id": "BtYSd0iHr4Q3"
      }
    },
    {
      "cell_type": "code",
      "source": [
        "from abc import ABC, abstractmethod\n",
        "\n",
        "class Shape(ABC):\n",
        "  @abstractmethod\n",
        "  def area(self):\n",
        "    pass\n",
        "\n",
        "class Rectangle(Shape):\n",
        "  def __init__(self, width, height):\n",
        "    self.w = width\n",
        "    self.h = height\n",
        "\n",
        "  def area(self):\n",
        "    return self.w * self.h\n",
        "\n",
        "r = Rectangle(4, 5)\n",
        "print(r.area())\n",
        "\n",
        "\n"
      ],
      "metadata": {
        "colab": {
          "base_uri": "https://localhost:8080/"
        },
        "id": "-yCZwAL1r7cm",
        "outputId": "d6a757f6-293a-45e3-a741-fb2482d7e7e7"
      },
      "execution_count": null,
      "outputs": [
        {
          "output_type": "stream",
          "name": "stdout",
          "text": [
            "20\n"
          ]
        }
      ]
    },
    {
      "cell_type": "markdown",
      "source": [
        "**10. Instance Methods\n",
        "Assignment:\n",
        "Create a class Dog with instance variables name and breed. Add an instance method bark() that prints a message including the dog's name.**"
      ],
      "metadata": {
        "id": "O9eE6ZtyxXqp"
      }
    },
    {
      "cell_type": "code",
      "source": [
        "class Dog:\n",
        "  def __init__(self, name, breed):\n",
        "    self.name = name\n",
        "    self.breed = breed\n",
        "\n",
        "  def bark(self):\n",
        "    print(f\"{self.name} says woof! \")\n",
        "\n",
        "d = Dog(\"Fluffy\", \"Labrador\")\n",
        "d.bark()\n"
      ],
      "metadata": {
        "colab": {
          "base_uri": "https://localhost:8080/"
        },
        "id": "iMTXwjTgxffN",
        "outputId": "39725690-909a-426b-c516-ba24ee49ea60"
      },
      "execution_count": null,
      "outputs": [
        {
          "output_type": "stream",
          "name": "stdout",
          "text": [
            "Fluffy says woof! \n"
          ]
        }
      ]
    },
    {
      "cell_type": "markdown",
      "source": [
        "**11. Class Methods\n",
        "Assignment:\n",
        "Create a class Book with a class variable total_books. Add a class method increment_book_count() to increase the count when a new book is added.**"
      ],
      "metadata": {
        "id": "4RQJ6tqkNpmn"
      }
    },
    {
      "cell_type": "code",
      "source": [
        "class Book:\n",
        "  total_books = 0\n",
        "\n",
        "  @classmethod\n",
        "  def increment_book_count(cls):\n",
        "    cls.total_books +=1\n",
        "\n",
        "Book.increment_book_count()\n",
        "Book.increment_book_count()\n",
        "print(\"Total Books:\", Book.total_books)\n",
        "\n",
        "\n"
      ],
      "metadata": {
        "colab": {
          "base_uri": "https://localhost:8080/"
        },
        "id": "vPwFur98NwJU",
        "outputId": "6b692bcc-f06a-4d1d-84b1-b55d8905f7b6"
      },
      "execution_count": null,
      "outputs": [
        {
          "output_type": "stream",
          "name": "stdout",
          "text": [
            "Total Books: 2\n"
          ]
        }
      ]
    },
    {
      "cell_type": "markdown",
      "source": [
        "**12. Static Methods\n",
        "Assignment:\n",
        "Create a class TemperatureConverter with a static method celsius_to_fahrenheit(c) that returns the Fahrenheit value.**"
      ],
      "metadata": {
        "id": "PsdVmMzdPJb2"
      }
    },
    {
      "cell_type": "code",
      "source": [
        "class TemperatureConverter:\n",
        "  @staticmethod\n",
        "  def celsiua_to_fahrenheit(c):\n",
        "    return (c* 9/5) + 32\n",
        "\n",
        "temp = TemperatureConverter()\n",
        "print(f\"Celsius to Fahrenheit: {temp.celsiua_to_fahrenheit(30)}\")"
      ],
      "metadata": {
        "colab": {
          "base_uri": "https://localhost:8080/"
        },
        "id": "T5Fv-IDIPQYH",
        "outputId": "e699a8f7-5105-4097-cf5b-5053b67874e7"
      },
      "execution_count": null,
      "outputs": [
        {
          "output_type": "stream",
          "name": "stdout",
          "text": [
            "Celsius to Fahrenheit: 86.0\n"
          ]
        }
      ]
    },
    {
      "cell_type": "markdown",
      "source": [
        "**13. Composition\n",
        "Assignment:\n",
        "Create a class Engine and a class Car. Use composition by passing an Engine object to the Car class during initialization. Access a method of the Engine class via the Car class.**"
      ],
      "metadata": {
        "id": "BQRiZM7sQP01"
      }
    },
    {
      "cell_type": "code",
      "source": [
        "class Engine:\n",
        "  def start_engine(self):\n",
        "    print(\"Engine is started! \")\n",
        "\n",
        "class Car:\n",
        "  def __init__(self, engine):\n",
        "    self.engine = engine\n",
        "\n",
        "  def start_car(self):\n",
        "    self.engine.start_engine()\n",
        "\n",
        "engine = Engine()\n",
        "car = Car(engine)\n",
        "car.start_car()\n",
        "\n"
      ],
      "metadata": {
        "colab": {
          "base_uri": "https://localhost:8080/"
        },
        "id": "XjUWgs2jQVoH",
        "outputId": "65287754-e1ce-45f9-83b1-fc559c41a080"
      },
      "execution_count": null,
      "outputs": [
        {
          "output_type": "stream",
          "name": "stdout",
          "text": [
            "Engine is started! \n"
          ]
        }
      ]
    },
    {
      "cell_type": "markdown",
      "source": [
        "**14. Aggregation\n",
        "Assignment:\n",
        "Create a class Department and a class Employee. Use aggregation by having a Department object store a reference to an Employee object that exists independently of it.**"
      ],
      "metadata": {
        "id": "Zd_TvzaoR89J"
      }
    },
    {
      "cell_type": "code",
      "source": [
        "class Employee:\n",
        "  def __init__(self, name):\n",
        "    self.name = name\n",
        "\n",
        "class Department:\n",
        "  def __init__(self, employee):\n",
        "    self.employee = employee\n",
        "\n",
        "emp = Employee(\"Ali\")\n",
        "dept = Department(emp)\n",
        "print(\"Employee Name:\", dept.employee.name)"
      ],
      "metadata": {
        "colab": {
          "base_uri": "https://localhost:8080/"
        },
        "id": "8T_Qv9pjR_3y",
        "outputId": "7c5b5f25-09f8-43e5-8d93-404a49d0f534"
      },
      "execution_count": null,
      "outputs": [
        {
          "output_type": "stream",
          "name": "stdout",
          "text": [
            "Employee Name: Ali\n"
          ]
        }
      ]
    },
    {
      "cell_type": "markdown",
      "source": [
        "**15. Method Resolution Order (MRO) and Diamond Inheritance\n",
        "Assignment:**\n",
        "Create four classes:\n",
        "\n",
        "A with a method show(),\n",
        "\n",
        "B and C that inherit from A and override show(),\n",
        "\n",
        "D that inherits from both B and C.\n",
        "\n",
        "Create an object of D and call show() to observe MRO.**"
      ],
      "metadata": {
        "id": "czUtBYq9S00F"
      }
    },
    {
      "cell_type": "code",
      "source": [
        "class A:\n",
        "  def show(self):\n",
        "    print(\"A\")\n",
        "\n",
        "class B(A):\n",
        "  def show(self):\n",
        "    print(\"B\")\n",
        "\n",
        "class C(A):\n",
        "  def show(self):\n",
        "    print(\"C\")\n",
        "\n",
        "class D(B, C):\n",
        "  pass\n",
        "\n",
        "d= D()\n",
        "d.show()\n",
        "print(D.__mro__)\n"
      ],
      "metadata": {
        "colab": {
          "base_uri": "https://localhost:8080/"
        },
        "id": "eKt2bfC5TBVR",
        "outputId": "4f67bb53-7780-412a-a2ef-afd3b1c39ea4"
      },
      "execution_count": null,
      "outputs": [
        {
          "output_type": "stream",
          "name": "stdout",
          "text": [
            "B\n",
            "(<class '__main__.D'>, <class '__main__.B'>, <class '__main__.C'>, <class '__main__.A'>, <class 'object'>)\n"
          ]
        }
      ]
    },
    {
      "cell_type": "markdown",
      "source": [
        "**16. Function Decorators\n",
        "Assignment:\n",
        "Write a decorator function log_function_call that prints \"Function is being called\" before a function executes. Apply it to a function say_hello().**"
      ],
      "metadata": {
        "id": "h1z1gXm1UVcx"
      }
    },
    {
      "cell_type": "code",
      "source": [
        "def log_function_call(func):\n",
        "  def wrapper():\n",
        "    print(\"function is being called...\")\n",
        "    return func()\n",
        "  return wrapper\n",
        "\n",
        "@log_function_call\n",
        "def say_hello():\n",
        "  print(\"Hello! \")\n",
        "\n",
        "say_hello()\n"
      ],
      "metadata": {
        "colab": {
          "base_uri": "https://localhost:8080/"
        },
        "id": "7qxDgXF0UalK",
        "outputId": "76b28956-eb96-412e-8fd1-d664f61643e7"
      },
      "execution_count": null,
      "outputs": [
        {
          "output_type": "stream",
          "name": "stdout",
          "text": [
            "function is being called...\n",
            "Hello! \n"
          ]
        }
      ]
    },
    {
      "cell_type": "markdown",
      "source": [
        "**17. Class Decorators\n",
        "Assignment:\n",
        "Create a class decorator add_greeting that modifies a class to add a greet() method returning \"Hello from Decorator!\". Apply it to a class Person.**"
      ],
      "metadata": {
        "id": "5zaveG8YVx-2"
      }
    },
    {
      "cell_type": "code",
      "source": [
        "def add_greeting(cls):\n",
        "  def greet(self):\n",
        "    return \"Hello from Decorator!\"\n",
        "  cls.greet = greet\n",
        "  return cls\n",
        "\n",
        "@add_greeting\n",
        "class Person:\n",
        "  pass\n",
        "\n",
        "p = Person()\n",
        "print(p.greet())\n"
      ],
      "metadata": {
        "colab": {
          "base_uri": "https://localhost:8080/"
        },
        "id": "a-3fUZH2V0bF",
        "outputId": "65067c3f-73a2-4190-dc2b-cf709e0feeba"
      },
      "execution_count": null,
      "outputs": [
        {
          "output_type": "stream",
          "name": "stdout",
          "text": [
            "Hello from Decorator!\n"
          ]
        }
      ]
    },
    {
      "cell_type": "markdown",
      "source": [
        "**18. Property Decorators: @property, @setter, and @deleter\n",
        "Assignment:\n",
        "Create a class Product with a private attribute _price. Use @property to get the price, @price.setter to update it, and @price.deleter to delete it.**"
      ],
      "metadata": {
        "id": "YpWshIMmWruu"
      }
    },
    {
      "cell_type": "code",
      "source": [
        "class Product:\n",
        "    def __init__(self):\n",
        "        self._price = 0\n",
        "\n",
        "    @property\n",
        "    def price(self):\n",
        "        return self._price\n",
        "\n",
        "    @price.setter\n",
        "    def price(self, value):\n",
        "        self._price = value\n",
        "\n",
        "    @price.deleter\n",
        "    def price(self):\n",
        "        del self._price\n",
        "\n",
        "p = Product()\n",
        "p.price = 100\n",
        "print(p.price)\n",
        "del p.price\n"
      ],
      "metadata": {
        "colab": {
          "base_uri": "https://localhost:8080/"
        },
        "id": "g889RIF0WuPQ",
        "outputId": "df7902fc-0aa5-4045-b6c0-fd7fb0a4e827"
      },
      "execution_count": null,
      "outputs": [
        {
          "output_type": "stream",
          "name": "stdout",
          "text": [
            "100\n"
          ]
        }
      ]
    },
    {
      "cell_type": "markdown",
      "source": [
        "**19. callable() and __call__()\n",
        "Assignment:\n",
        "Create a class Multiplier with an __init__() to set a factor. Define a __call__() method that multiplies an input by the factor. Test it with callable() and by calling the object like a function.**"
      ],
      "metadata": {
        "id": "FgM4xYRDYHR3"
      }
    },
    {
      "cell_type": "code",
      "source": [
        "class Multiplier:\n",
        "  def __init__(self, factor):\n",
        "    self.factor = factor\n",
        "\n",
        "  def __call__(self, x):\n",
        "    return x * self.factor\n",
        "\n",
        "m = Multiplier(3)\n",
        "print(callable(m))\n",
        "print(m(5))"
      ],
      "metadata": {
        "colab": {
          "base_uri": "https://localhost:8080/"
        },
        "id": "YEmlk5GeYNLD",
        "outputId": "182926d5-5010-4f69-abd3-c4b95b27f981"
      },
      "execution_count": null,
      "outputs": [
        {
          "output_type": "stream",
          "name": "stdout",
          "text": [
            "True\n",
            "15\n"
          ]
        }
      ]
    },
    {
      "cell_type": "markdown",
      "source": [
        "**20. Creating a Custom Exception\n",
        "Assignment:\n",
        "Create a custom exception InvalidAgeError. Write a function check_age(age) that raises this exception if age < 18. Handle it with try...except.**"
      ],
      "metadata": {
        "id": "1qCQbGgXY8ss"
      }
    },
    {
      "cell_type": "code",
      "source": [
        "class InvalidAge(Exception):\n",
        "  pass\n",
        "\n",
        "def check_age(age):\n",
        "  if age < 18:\n",
        "    raise InvalidAge(\"Age must be 18 atleast.\")\n",
        "\n",
        "try:\n",
        "  check_age(16)\n",
        "\n",
        "except InvalidAge as e:\n",
        "  print(e)\n",
        "\n"
      ],
      "metadata": {
        "colab": {
          "base_uri": "https://localhost:8080/"
        },
        "id": "z1AKYdeAZBMV",
        "outputId": "4d1f6a52-9180-4ee0-e842-50e3c157e242"
      },
      "execution_count": null,
      "outputs": [
        {
          "output_type": "stream",
          "name": "stdout",
          "text": [
            "Age must be 18 atleast.\n"
          ]
        }
      ]
    },
    {
      "cell_type": "markdown",
      "source": [
        "**21. Make a Custom Class Iterable\n",
        "Assignment:\n",
        "Create a class Countdown that takes a start number. Implement __iter__() and __next__() to make the object iterable in a for-loop, counting down to 0.**"
      ],
      "metadata": {
        "id": "SQSNJ8oqZ_iS"
      }
    },
    {
      "cell_type": "code",
      "source": [
        "class Countdown:\n",
        "  def __init__(self, start):\n",
        "    self.current = start\n",
        "\n",
        "  def __iter__(self):\n",
        "    return self\n",
        "\n",
        "  def __next__(self):\n",
        "    if self.current < 0:\n",
        "      raise StopIteration\n",
        "    val = self.current\n",
        "    self.current -= 1\n",
        "    return val\n",
        "\n",
        "for i in Countdown(5):\n",
        "  print(i)\n"
      ],
      "metadata": {
        "colab": {
          "base_uri": "https://localhost:8080/"
        },
        "id": "zoWFxfJ_aG26",
        "outputId": "898ab9fc-c601-4e54-9150-bf2a26f76784"
      },
      "execution_count": null,
      "outputs": [
        {
          "output_type": "stream",
          "name": "stdout",
          "text": [
            "5\n",
            "4\n",
            "3\n",
            "2\n",
            "1\n",
            "0\n"
          ]
        }
      ]
    }
  ]
}